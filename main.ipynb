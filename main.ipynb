{
  "cells": [
    {
      "cell_type": "code",
      "execution_count": 64,
      "metadata": {
        "id": "dcZRdgJWSh55"
      },
      "outputs": [],
      "source": [
        "\n",
        "import pandas as pd\n",
        "import numpy as np\n",
        "import matplotlib.pyplot as plt\n"
      ]
    },
    {
      "cell_type": "code",
      "execution_count": 65,
      "metadata": {
        "colab": {
          "base_uri": "https://localhost:8080/"
        },
        "id": "BECYu-BmSh56",
        "outputId": "5173b46d-71b3-4967-cae6-973ba4435989"
      },
      "outputs": [
        {
          "name": "stderr",
          "output_type": "stream",
          "text": [
            "/tmp/ipykernel_13780/508254629.py:4: DtypeWarning: Columns (121,123) have mixed types. Specify dtype option on import or set low_memory=False.\n",
            "  data_2022Q2 = pd.read_csv('datos/GASTO_TURISTICO_2022Q2.csv', sep=';', usecols=('SEXO', 'EDAD', 'PAIS_RESIDENCIA', 'TRIMESTRE', 'AEROPUERTO_ORIGEN', 'PAIS_DESTINO', 'ISLA', 'ALOJ_CATEG', 'PERSONAS_0_2', 'PERSONAS_3_12', 'PERSONAS_13_15', 'PERSONAS_16_64', 'PERSONAS_65_O_MAS', 'PERSONAS_TOTAL', 'COMPRA_VUELO', 'COMPRA_ALOJ', 'PAQUETE_TURISTICO', 'SERV_NINGUNO', 'SERV_EXCURSIONES', 'SERV_TRANSFERS', 'SERV_ALQ_VEHICULO', 'SERV_OTROS', 'COSTE_VUELOS_EUROS', 'GRATIS_VUELOS', 'COSTE_ALOJ_EUROS', 'GRATIS_ALOJ', 'TIPO_PENSION', 'GASTO_EUROS', 'DESGLOSE_EXTRA_ALOJ', 'DESGLOSE_PASAJES_ISLAS', 'DESGLOSE_TAXI', 'DESGLOSE_ALQ_VEHIC', 'DESGLOSE_TRANSP_PUBLICO', 'DESGLOSE_ALIM_SUPER', 'DESGLOSE_RESTAURANT', 'DESGLOSE_EXCURS_ORGANIZ', 'DESGLOSE_DEPORTES', 'DESGLOSE_ACTIV_CULTURAL', 'DESGLOSE_MUSEOS', 'DESGLOSE_PARQUES_OCIO', 'DESGLOSE_DISCOTECAS', 'DESGLOSE_SALUD', 'DESGLOSE_SOUVENIRS', 'DESGLOSE_BIENES_INMUEBLES', 'DESGLOSE_OTRAS_COMPRAS', 'DESGLOSE_FARMACIA', 'DESGLOSE_OTROS_GASTOS', 'NOCHES_LZ', 'NOCHES_FV', 'NOCHES_GC', 'NOCHES_TF', 'NOCHES_LG', 'NOCHES_LP', 'NOCHES_EH', 'NOCHES_CRUCERO', 'NOCHES', 'SIN_PERNOCTAR_LZ', 'SIN_PERNOCTAR_FV', 'SIN_PERNOCTAR_GC', 'SIN_PERNOCTAR_TF', 'SIN_PERNOCTAR_LG', 'SIN_PERNOCTAR_LP', 'SIN_PERNOCTAR_EH'), encoding='latin-1')\n"
          ]
        }
      ],
      "source": [
        "data_2019 = pd.read_csv('datos/GASTO_TURISTICO_2019.csv', sep=';', usecols=('SEXO', 'EDAD', 'PAIS_RESIDENCIA', 'TRIMESTRE', 'AEROPUERTO_ORIGEN', 'PAIS_DESTINO', 'ISLA', 'ALOJ_CATEG', 'PERSONAS_0_2', 'PERSONAS_3_12', 'PERSONAS_13_15', 'PERSONAS_16_64', 'PERSONAS_65_O_MAS', 'PERSONAS_TOTAL', 'COMPRA_VUELO', 'COMPRA_ALOJ', 'PAQUETE_TURISTICO', 'SERV_NINGUNO', 'SERV_EXCURSIONES', 'SERV_TRANSFERS', 'SERV_ALQ_VEHICULO', 'SERV_OTROS', 'COSTE_VUELOS_EUROS', 'GRATIS_VUELOS', 'COSTE_ALOJ_EUROS', 'GRATIS_ALOJ', 'TIPO_PENSION', 'GASTO_EUROS', 'DESGLOSE_EXTRA_ALOJ', 'DESGLOSE_PASAJES_ISLAS', 'DESGLOSE_TAXI', 'DESGLOSE_ALQ_VEHIC', 'DESGLOSE_TRANSP_PUBLICO', 'DESGLOSE_ALIM_SUPER', 'DESGLOSE_RESTAURANT', 'DESGLOSE_EXCURS_ORGANIZ', 'DESGLOSE_DEPORTES', 'DESGLOSE_ACTIV_CULTURAL', 'DESGLOSE_MUSEOS', 'DESGLOSE_PARQUES_OCIO', 'DESGLOSE_DISCOTECAS', 'DESGLOSE_SALUD', 'DESGLOSE_SOUVENIRS', 'DESGLOSE_BIENES_INMUEBLES', 'DESGLOSE_OTRAS_COMPRAS', 'DESGLOSE_FARMACIA', 'DESGLOSE_OTROS_GASTOS', 'NOCHES_LZ', 'NOCHES_FV', 'NOCHES_GC', 'NOCHES_TF', 'NOCHES_LG', 'NOCHES_LP', 'NOCHES_EH', 'NOCHES_CRUCERO', 'NOCHES', 'SIN_PERNOCTAR_LZ', 'SIN_PERNOCTAR_FV', 'SIN_PERNOCTAR_GC', 'SIN_PERNOCTAR_TF', 'SIN_PERNOCTAR_LG', 'SIN_PERNOCTAR_LP', 'SIN_PERNOCTAR_EH'))\n",
        "data_2021 = pd.read_csv('datos/GASTO_TURISTICO_2021.csv', sep=';', usecols=('SEXO', 'EDAD', 'PAIS_RESIDENCIA', 'TRIMESTRE', 'AEROPUERTO_ORIGEN', 'PAIS_DESTINO', 'ISLA', 'ALOJ_CATEG', 'PERSONAS_0_2', 'PERSONAS_3_12', 'PERSONAS_13_15', 'PERSONAS_16_64', 'PERSONAS_65_O_MAS', 'PERSONAS_TOTAL', 'COMPRA_VUELO', 'COMPRA_ALOJ', 'PAQUETE_TURISTICO', 'SERV_NINGUNO', 'SERV_EXCURSIONES', 'SERV_TRANSFERS', 'SERV_ALQ_VEHICULO', 'SERV_OTROS', 'COSTE_VUELOS_EUROS', 'GRATIS_VUELOS', 'COSTE_ALOJ_EUROS', 'GRATIS_ALOJ', 'TIPO_PENSION', 'GASTO_EUROS', 'DESGLOSE_EXTRA_ALOJ', 'DESGLOSE_PASAJES_ISLAS', 'DESGLOSE_TAXI', 'DESGLOSE_ALQ_VEHIC', 'DESGLOSE_TRANSP_PUBLICO', 'DESGLOSE_ALIM_SUPER', 'DESGLOSE_RESTAURANT', 'DESGLOSE_EXCURS_ORGANIZ', 'DESGLOSE_DEPORTES', 'DESGLOSE_ACTIV_CULTURAL', 'DESGLOSE_MUSEOS', 'DESGLOSE_PARQUES_OCIO', 'DESGLOSE_DISCOTECAS', 'DESGLOSE_SALUD', 'DESGLOSE_SOUVENIRS', 'DESGLOSE_BIENES_INMUEBLES', 'DESGLOSE_OTRAS_COMPRAS', 'DESGLOSE_FARMACIA', 'DESGLOSE_OTROS_GASTOS', 'NOCHES_LZ', 'NOCHES_FV', 'NOCHES_GC', 'NOCHES_TF', 'NOCHES_LG', 'NOCHES_LP', 'NOCHES_EH', 'NOCHES_CRUCERO', 'NOCHES', 'SIN_PERNOCTAR_LZ', 'SIN_PERNOCTAR_FV', 'SIN_PERNOCTAR_GC', 'SIN_PERNOCTAR_TF', 'SIN_PERNOCTAR_LG', 'SIN_PERNOCTAR_LP', 'SIN_PERNOCTAR_EH'), encoding='latin-1')\n",
        "data_2022Q1 = pd.read_csv('datos/GASTO_TURISTICO_2022Q1.csv', sep=';', usecols=('SEXO', 'EDAD', 'PAIS_RESIDENCIA', 'TRIMESTRE', 'AEROPUERTO_ORIGEN', 'PAIS_DESTINO', 'ISLA', 'ALOJ_CATEG', 'PERSONAS_0_2', 'PERSONAS_3_12', 'PERSONAS_13_15', 'PERSONAS_16_64', 'PERSONAS_65_O_MAS', 'PERSONAS_TOTAL', 'COMPRA_VUELO', 'COMPRA_ALOJ', 'PAQUETE_TURISTICO', 'SERV_NINGUNO', 'SERV_EXCURSIONES', 'SERV_TRANSFERS', 'SERV_ALQ_VEHICULO', 'SERV_OTROS', 'COSTE_VUELOS_EUROS', 'GRATIS_VUELOS', 'COSTE_ALOJ_EUROS', 'GRATIS_ALOJ', 'TIPO_PENSION', 'GASTO_EUROS', 'DESGLOSE_EXTRA_ALOJ', 'DESGLOSE_PASAJES_ISLAS', 'DESGLOSE_TAXI', 'DESGLOSE_ALQ_VEHIC', 'DESGLOSE_TRANSP_PUBLICO', 'DESGLOSE_ALIM_SUPER', 'DESGLOSE_RESTAURANT', 'DESGLOSE_EXCURS_ORGANIZ', 'DESGLOSE_DEPORTES', 'DESGLOSE_ACTIV_CULTURAL', 'DESGLOSE_MUSEOS', 'DESGLOSE_PARQUES_OCIO', 'DESGLOSE_DISCOTECAS', 'DESGLOSE_SALUD', 'DESGLOSE_SOUVENIRS', 'DESGLOSE_BIENES_INMUEBLES', 'DESGLOSE_OTRAS_COMPRAS', 'DESGLOSE_FARMACIA', 'DESGLOSE_OTROS_GASTOS', 'NOCHES_LZ', 'NOCHES_FV', 'NOCHES_GC', 'NOCHES_TF', 'NOCHES_LG', 'NOCHES_LP', 'NOCHES_EH', 'NOCHES_CRUCERO', 'NOCHES', 'SIN_PERNOCTAR_LZ', 'SIN_PERNOCTAR_FV', 'SIN_PERNOCTAR_GC', 'SIN_PERNOCTAR_TF', 'SIN_PERNOCTAR_LG', 'SIN_PERNOCTAR_LP', 'SIN_PERNOCTAR_EH'), encoding='latin-1')\n",
        "data_2022Q2 = pd.read_csv('datos/GASTO_TURISTICO_2022Q2.csv', sep=';', usecols=('SEXO', 'EDAD', 'PAIS_RESIDENCIA', 'TRIMESTRE', 'AEROPUERTO_ORIGEN', 'PAIS_DESTINO', 'ISLA', 'ALOJ_CATEG', 'PERSONAS_0_2', 'PERSONAS_3_12', 'PERSONAS_13_15', 'PERSONAS_16_64', 'PERSONAS_65_O_MAS', 'PERSONAS_TOTAL', 'COMPRA_VUELO', 'COMPRA_ALOJ', 'PAQUETE_TURISTICO', 'SERV_NINGUNO', 'SERV_EXCURSIONES', 'SERV_TRANSFERS', 'SERV_ALQ_VEHICULO', 'SERV_OTROS', 'COSTE_VUELOS_EUROS', 'GRATIS_VUELOS', 'COSTE_ALOJ_EUROS', 'GRATIS_ALOJ', 'TIPO_PENSION', 'GASTO_EUROS', 'DESGLOSE_EXTRA_ALOJ', 'DESGLOSE_PASAJES_ISLAS', 'DESGLOSE_TAXI', 'DESGLOSE_ALQ_VEHIC', 'DESGLOSE_TRANSP_PUBLICO', 'DESGLOSE_ALIM_SUPER', 'DESGLOSE_RESTAURANT', 'DESGLOSE_EXCURS_ORGANIZ', 'DESGLOSE_DEPORTES', 'DESGLOSE_ACTIV_CULTURAL', 'DESGLOSE_MUSEOS', 'DESGLOSE_PARQUES_OCIO', 'DESGLOSE_DISCOTECAS', 'DESGLOSE_SALUD', 'DESGLOSE_SOUVENIRS', 'DESGLOSE_BIENES_INMUEBLES', 'DESGLOSE_OTRAS_COMPRAS', 'DESGLOSE_FARMACIA', 'DESGLOSE_OTROS_GASTOS', 'NOCHES_LZ', 'NOCHES_FV', 'NOCHES_GC', 'NOCHES_TF', 'NOCHES_LG', 'NOCHES_LP', 'NOCHES_EH', 'NOCHES_CRUCERO', 'NOCHES', 'SIN_PERNOCTAR_LZ', 'SIN_PERNOCTAR_FV', 'SIN_PERNOCTAR_GC', 'SIN_PERNOCTAR_TF', 'SIN_PERNOCTAR_LG', 'SIN_PERNOCTAR_LP', 'SIN_PERNOCTAR_EH'), encoding='latin-1')"
      ]
    },
    {
      "cell_type": "code",
      "execution_count": 66,
      "metadata": {
        "colab": {
          "base_uri": "https://localhost:8080/",
          "height": 488
        },
        "id": "ZZsEFZAo3myL",
        "outputId": "2dee432a-2e43-4f0d-8a63-1984674a75d7"
      },
      "outputs": [
        {
          "data": {
            "text/html": [
              "<div>\n",
              "<style scoped>\n",
              "    .dataframe tbody tr th:only-of-type {\n",
              "        vertical-align: middle;\n",
              "    }\n",
              "\n",
              "    .dataframe tbody tr th {\n",
              "        vertical-align: top;\n",
              "    }\n",
              "\n",
              "    .dataframe thead th {\n",
              "        text-align: right;\n",
              "    }\n",
              "</style>\n",
              "<table border=\"1\" class=\"dataframe\">\n",
              "  <thead>\n",
              "    <tr style=\"text-align: right;\">\n",
              "      <th></th>\n",
              "      <th>AEROPUERTO_ORIGEN</th>\n",
              "      <th>PAIS_DESTINO</th>\n",
              "      <th>SEXO</th>\n",
              "      <th>EDAD</th>\n",
              "      <th>PAIS_RESIDENCIA</th>\n",
              "      <th>NOCHES_LZ</th>\n",
              "      <th>NOCHES_FV</th>\n",
              "      <th>NOCHES_GC</th>\n",
              "      <th>NOCHES_TF</th>\n",
              "      <th>NOCHES_LG</th>\n",
              "      <th>...</th>\n",
              "      <th>DESGLOSE_MUSEOS</th>\n",
              "      <th>DESGLOSE_PARQUES_OCIO</th>\n",
              "      <th>DESGLOSE_DISCOTECAS</th>\n",
              "      <th>DESGLOSE_SALUD</th>\n",
              "      <th>DESGLOSE_SOUVENIRS</th>\n",
              "      <th>DESGLOSE_BIENES_INMUEBLES</th>\n",
              "      <th>DESGLOSE_OTRAS_COMPRAS</th>\n",
              "      <th>DESGLOSE_FARMACIA</th>\n",
              "      <th>DESGLOSE_OTROS_GASTOS</th>\n",
              "      <th>TRIMESTRE</th>\n",
              "    </tr>\n",
              "  </thead>\n",
              "  <tbody>\n",
              "    <tr>\n",
              "      <th>0</th>\n",
              "      <td>ACE</td>\n",
              "      <td>GBR826</td>\n",
              "      <td>6</td>\n",
              "      <td>68</td>\n",
              "      <td>GBR826</td>\n",
              "      <td>10</td>\n",
              "      <td>0</td>\n",
              "      <td>0</td>\n",
              "      <td>0</td>\n",
              "      <td>0</td>\n",
              "      <td>...</td>\n",
              "      <td>0</td>\n",
              "      <td>0</td>\n",
              "      <td>0</td>\n",
              "      <td>0</td>\n",
              "      <td>0</td>\n",
              "      <td>0</td>\n",
              "      <td>0</td>\n",
              "      <td>0</td>\n",
              "      <td>0</td>\n",
              "      <td>2019Q1</td>\n",
              "    </tr>\n",
              "    <tr>\n",
              "      <th>1</th>\n",
              "      <td>ACE</td>\n",
              "      <td>IRL372</td>\n",
              "      <td>1</td>\n",
              "      <td>53</td>\n",
              "      <td>IRL372</td>\n",
              "      <td>3</td>\n",
              "      <td>0</td>\n",
              "      <td>0</td>\n",
              "      <td>0</td>\n",
              "      <td>0</td>\n",
              "      <td>...</td>\n",
              "      <td>0</td>\n",
              "      <td>0</td>\n",
              "      <td>50</td>\n",
              "      <td>0</td>\n",
              "      <td>10</td>\n",
              "      <td>0</td>\n",
              "      <td>0</td>\n",
              "      <td>0</td>\n",
              "      <td>0</td>\n",
              "      <td>2019Q1</td>\n",
              "    </tr>\n",
              "    <tr>\n",
              "      <th>2</th>\n",
              "      <td>ACE</td>\n",
              "      <td>FRA250</td>\n",
              "      <td>6</td>\n",
              "      <td>22</td>\n",
              "      <td>FRA250</td>\n",
              "      <td>5</td>\n",
              "      <td>0</td>\n",
              "      <td>0</td>\n",
              "      <td>0</td>\n",
              "      <td>0</td>\n",
              "      <td>...</td>\n",
              "      <td>13,636363636</td>\n",
              "      <td>0</td>\n",
              "      <td>0</td>\n",
              "      <td>0</td>\n",
              "      <td>11,363636364</td>\n",
              "      <td>0</td>\n",
              "      <td>0</td>\n",
              "      <td>0</td>\n",
              "      <td>0</td>\n",
              "      <td>2019Q1</td>\n",
              "    </tr>\n",
              "    <tr>\n",
              "      <th>3</th>\n",
              "      <td>ACE</td>\n",
              "      <td>FRA250</td>\n",
              "      <td>1</td>\n",
              "      <td>70</td>\n",
              "      <td>FRA250</td>\n",
              "      <td>18</td>\n",
              "      <td>0</td>\n",
              "      <td>0</td>\n",
              "      <td>0</td>\n",
              "      <td>0</td>\n",
              "      <td>...</td>\n",
              "      <td>0</td>\n",
              "      <td>0</td>\n",
              "      <td>0</td>\n",
              "      <td>0</td>\n",
              "      <td>0</td>\n",
              "      <td>0</td>\n",
              "      <td>0</td>\n",
              "      <td>0</td>\n",
              "      <td>0</td>\n",
              "      <td>2019Q1</td>\n",
              "    </tr>\n",
              "    <tr>\n",
              "      <th>4</th>\n",
              "      <td>ACE</td>\n",
              "      <td>FRA250</td>\n",
              "      <td>6</td>\n",
              "      <td>34</td>\n",
              "      <td>FRA250</td>\n",
              "      <td>5</td>\n",
              "      <td>0</td>\n",
              "      <td>0</td>\n",
              "      <td>0</td>\n",
              "      <td>0</td>\n",
              "      <td>...</td>\n",
              "      <td>10,975609756</td>\n",
              "      <td>0</td>\n",
              "      <td>0</td>\n",
              "      <td>12,195121951</td>\n",
              "      <td>23,170731707</td>\n",
              "      <td>0</td>\n",
              "      <td>0</td>\n",
              "      <td>0</td>\n",
              "      <td>0</td>\n",
              "      <td>2019Q1</td>\n",
              "    </tr>\n",
              "    <tr>\n",
              "      <th>...</th>\n",
              "      <td>...</td>\n",
              "      <td>...</td>\n",
              "      <td>...</td>\n",
              "      <td>...</td>\n",
              "      <td>...</td>\n",
              "      <td>...</td>\n",
              "      <td>...</td>\n",
              "      <td>...</td>\n",
              "      <td>...</td>\n",
              "      <td>...</td>\n",
              "      <td>...</td>\n",
              "      <td>...</td>\n",
              "      <td>...</td>\n",
              "      <td>...</td>\n",
              "      <td>...</td>\n",
              "      <td>...</td>\n",
              "      <td>...</td>\n",
              "      <td>...</td>\n",
              "      <td>...</td>\n",
              "      <td>...</td>\n",
              "      <td>...</td>\n",
              "    </tr>\n",
              "    <tr>\n",
              "      <th>38756</th>\n",
              "      <td>TFS</td>\n",
              "      <td>ITA380</td>\n",
              "      <td>6</td>\n",
              "      <td>57</td>\n",
              "      <td>ITA380</td>\n",
              "      <td>0</td>\n",
              "      <td>0</td>\n",
              "      <td>0</td>\n",
              "      <td>7</td>\n",
              "      <td>0</td>\n",
              "      <td>...</td>\n",
              "      <td>0</td>\n",
              "      <td>0</td>\n",
              "      <td>0</td>\n",
              "      <td>0</td>\n",
              "      <td>0</td>\n",
              "      <td>0</td>\n",
              "      <td>0</td>\n",
              "      <td>0</td>\n",
              "      <td>0</td>\n",
              "      <td>2019Q4</td>\n",
              "    </tr>\n",
              "    <tr>\n",
              "      <th>38757</th>\n",
              "      <td>TFS</td>\n",
              "      <td>ITA380</td>\n",
              "      <td>1</td>\n",
              "      <td>16</td>\n",
              "      <td>ITA380</td>\n",
              "      <td>0</td>\n",
              "      <td>0</td>\n",
              "      <td>0</td>\n",
              "      <td>19</td>\n",
              "      <td>0</td>\n",
              "      <td>...</td>\n",
              "      <td>0</td>\n",
              "      <td>0</td>\n",
              "      <td>0</td>\n",
              "      <td>0</td>\n",
              "      <td>0</td>\n",
              "      <td>0</td>\n",
              "      <td>0</td>\n",
              "      <td>0</td>\n",
              "      <td>0</td>\n",
              "      <td>2019Q4</td>\n",
              "    </tr>\n",
              "    <tr>\n",
              "      <th>38758</th>\n",
              "      <td>TFS</td>\n",
              "      <td>ITA380</td>\n",
              "      <td>1</td>\n",
              "      <td>54</td>\n",
              "      <td>ZZZ900</td>\n",
              "      <td>0</td>\n",
              "      <td>0</td>\n",
              "      <td>0</td>\n",
              "      <td>14</td>\n",
              "      <td>0</td>\n",
              "      <td>...</td>\n",
              "      <td>0</td>\n",
              "      <td>0</td>\n",
              "      <td>0</td>\n",
              "      <td>0</td>\n",
              "      <td>0</td>\n",
              "      <td>0</td>\n",
              "      <td>0</td>\n",
              "      <td>0</td>\n",
              "      <td>0</td>\n",
              "      <td>2019Q4</td>\n",
              "    </tr>\n",
              "    <tr>\n",
              "      <th>38759</th>\n",
              "      <td>TFS</td>\n",
              "      <td>ITA380</td>\n",
              "      <td>1</td>\n",
              "      <td>59</td>\n",
              "      <td>ITA380</td>\n",
              "      <td>0</td>\n",
              "      <td>0</td>\n",
              "      <td>0</td>\n",
              "      <td>7</td>\n",
              "      <td>0</td>\n",
              "      <td>...</td>\n",
              "      <td>0</td>\n",
              "      <td>0</td>\n",
              "      <td>0</td>\n",
              "      <td>0</td>\n",
              "      <td>0</td>\n",
              "      <td>0</td>\n",
              "      <td>0</td>\n",
              "      <td>0</td>\n",
              "      <td>0</td>\n",
              "      <td>2019Q4</td>\n",
              "    </tr>\n",
              "    <tr>\n",
              "      <th>38760</th>\n",
              "      <td>TFS</td>\n",
              "      <td>ITA380</td>\n",
              "      <td>6</td>\n",
              "      <td>50</td>\n",
              "      <td>ITA380</td>\n",
              "      <td>0</td>\n",
              "      <td>0</td>\n",
              "      <td>0</td>\n",
              "      <td>10</td>\n",
              "      <td>0</td>\n",
              "      <td>...</td>\n",
              "      <td>0</td>\n",
              "      <td>0</td>\n",
              "      <td>0</td>\n",
              "      <td>0</td>\n",
              "      <td>0</td>\n",
              "      <td>0</td>\n",
              "      <td>0</td>\n",
              "      <td>0</td>\n",
              "      <td>0</td>\n",
              "      <td>2019Q4</td>\n",
              "    </tr>\n",
              "  </tbody>\n",
              "</table>\n",
              "<p>38761 rows × 63 columns</p>\n",
              "</div>"
            ],
            "text/plain": [
              "      AEROPUERTO_ORIGEN PAIS_DESTINO  SEXO  EDAD PAIS_RESIDENCIA  NOCHES_LZ  \\\n",
              "0                   ACE       GBR826     6    68          GBR826         10   \n",
              "1                   ACE       IRL372     1    53          IRL372          3   \n",
              "2                   ACE       FRA250     6    22          FRA250          5   \n",
              "3                   ACE       FRA250     1    70          FRA250         18   \n",
              "4                   ACE       FRA250     6    34          FRA250          5   \n",
              "...                 ...          ...   ...   ...             ...        ...   \n",
              "38756               TFS       ITA380     6    57          ITA380          0   \n",
              "38757               TFS       ITA380     1    16          ITA380          0   \n",
              "38758               TFS       ITA380     1    54          ZZZ900          0   \n",
              "38759               TFS       ITA380     1    59          ITA380          0   \n",
              "38760               TFS       ITA380     6    50          ITA380          0   \n",
              "\n",
              "       NOCHES_FV  NOCHES_GC  NOCHES_TF  NOCHES_LG  ...  DESGLOSE_MUSEOS  \\\n",
              "0              0          0          0          0  ...                0   \n",
              "1              0          0          0          0  ...                0   \n",
              "2              0          0          0          0  ...     13,636363636   \n",
              "3              0          0          0          0  ...                0   \n",
              "4              0          0          0          0  ...     10,975609756   \n",
              "...          ...        ...        ...        ...  ...              ...   \n",
              "38756          0          0          7          0  ...                0   \n",
              "38757          0          0         19          0  ...                0   \n",
              "38758          0          0         14          0  ...                0   \n",
              "38759          0          0          7          0  ...                0   \n",
              "38760          0          0         10          0  ...                0   \n",
              "\n",
              "       DESGLOSE_PARQUES_OCIO  DESGLOSE_DISCOTECAS  DESGLOSE_SALUD  \\\n",
              "0                          0                    0               0   \n",
              "1                          0                   50               0   \n",
              "2                          0                    0               0   \n",
              "3                          0                    0               0   \n",
              "4                          0                    0    12,195121951   \n",
              "...                      ...                  ...             ...   \n",
              "38756                      0                    0               0   \n",
              "38757                      0                    0               0   \n",
              "38758                      0                    0               0   \n",
              "38759                      0                    0               0   \n",
              "38760                      0                    0               0   \n",
              "\n",
              "       DESGLOSE_SOUVENIRS  DESGLOSE_BIENES_INMUEBLES  DESGLOSE_OTRAS_COMPRAS  \\\n",
              "0                       0                          0                       0   \n",
              "1                      10                          0                       0   \n",
              "2            11,363636364                          0                       0   \n",
              "3                       0                          0                       0   \n",
              "4            23,170731707                          0                       0   \n",
              "...                   ...                        ...                     ...   \n",
              "38756                   0                          0                       0   \n",
              "38757                   0                          0                       0   \n",
              "38758                   0                          0                       0   \n",
              "38759                   0                          0                       0   \n",
              "38760                   0                          0                       0   \n",
              "\n",
              "       DESGLOSE_FARMACIA  DESGLOSE_OTROS_GASTOS  TRIMESTRE  \n",
              "0                      0                      0     2019Q1  \n",
              "1                      0                      0     2019Q1  \n",
              "2                      0                      0     2019Q1  \n",
              "3                      0                      0     2019Q1  \n",
              "4                      0                      0     2019Q1  \n",
              "...                  ...                    ...        ...  \n",
              "38756                  0                      0     2019Q4  \n",
              "38757                  0                      0     2019Q4  \n",
              "38758                  0                      0     2019Q4  \n",
              "38759                  0                      0     2019Q4  \n",
              "38760                  0                      0     2019Q4  \n",
              "\n",
              "[38761 rows x 63 columns]"
            ]
          },
          "execution_count": 66,
          "metadata": {},
          "output_type": "execute_result"
        }
      ],
      "source": [
        "data_2019"
      ]
    },
    {
      "cell_type": "code",
      "execution_count": 67,
      "metadata": {
        "id": "nSnVl8NQSh57"
      },
      "outputs": [],
      "source": [
        "main_data_tourism = pd.concat([data_2019, data_2021, data_2022Q1, data_2022Q2])"
      ]
    },
    {
      "cell_type": "code",
      "execution_count": 68,
      "metadata": {
        "colab": {
          "base_uri": "https://localhost:8080/"
        },
        "id": "HeejFAjDSh58",
        "outputId": "55523ac2-13fa-47bc-d05d-79eafc27bfa6"
      },
      "outputs": [
        {
          "data": {
            "text/plain": [
              "5738985"
            ]
          },
          "execution_count": 68,
          "metadata": {},
          "output_type": "execute_result"
        }
      ],
      "source": [
        "main_data_tourism.size # Total de elementos"
      ]
    },
    {
      "cell_type": "code",
      "execution_count": 69,
      "metadata": {
        "colab": {
          "base_uri": "https://localhost:8080/"
        },
        "id": "MfIhUesxSh58",
        "outputId": "3dafd7dc-afb4-4d2c-c07f-e0561de8d96c"
      },
      "outputs": [
        {
          "data": {
            "text/plain": [
              "array([['ACE', 'GBR826', 6, ..., '0', '0', '2019Q1'],\n",
              "       ['ACE', 'IRL372', 1, ..., '0', '0', '2019Q1'],\n",
              "       ['ACE', 'FRA250', 6, ..., '0', '0', '2019Q1'],\n",
              "       ...,\n",
              "       ['TFS', 'PRT620', 6, ..., '2,2471910112', '0', '2022Q2'],\n",
              "       ['ACE', 'ESP724', 1, ..., '0', '0', '2022Q2'],\n",
              "       ['TFS', 'DEU276', 6, ..., '0', '0', '2022Q2']], dtype=object)"
            ]
          },
          "execution_count": 69,
          "metadata": {},
          "output_type": "execute_result"
        }
      ],
      "source": [
        "main_data_tourism.values"
      ]
    },
    {
      "cell_type": "code",
      "execution_count": 70,
      "metadata": {
        "colab": {
          "base_uri": "https://localhost:8080/"
        },
        "id": "4b_aYb6rSh58",
        "outputId": "e65cca09-8f03-4848-8748-bc56e896a1cb"
      },
      "outputs": [
        {
          "data": {
            "text/plain": [
              "Int64Index([   0,    1,    2,    3,    4,    5,    6,    7,    8,    9,\n",
              "            ...\n",
              "            9313, 9314, 9315, 9316, 9317, 9318, 9319, 9320, 9321, 9322],\n",
              "           dtype='int64', length=91095)"
            ]
          },
          "execution_count": 70,
          "metadata": {},
          "output_type": "execute_result"
        }
      ],
      "source": [
        "main_data_tourism.index"
      ]
    },
    {
      "cell_type": "code",
      "execution_count": 71,
      "metadata": {
        "colab": {
          "base_uri": "https://localhost:8080/"
        },
        "id": "aReNXJZeSh58",
        "outputId": "43b243bf-0cbd-4f7b-c93b-c15cf7b31de8"
      },
      "outputs": [
        {
          "data": {
            "text/plain": [
              "5738985"
            ]
          },
          "execution_count": 71,
          "metadata": {},
          "output_type": "execute_result"
        }
      ],
      "source": [
        "main_data_tourism.values.size"
      ]
    },
    {
      "cell_type": "code",
      "execution_count": 72,
      "metadata": {
        "colab": {
          "base_uri": "https://localhost:8080/"
        },
        "id": "uRlu6pSPSh59",
        "outputId": "93557bb4-ae21-417b-d703-0de754853535"
      },
      "outputs": [
        {
          "data": {
            "text/plain": [
              "91095"
            ]
          },
          "execution_count": 72,
          "metadata": {},
          "output_type": "execute_result"
        }
      ],
      "source": [
        "main_data_tourism.index.size"
      ]
    },
    {
      "cell_type": "code",
      "execution_count": 73,
      "metadata": {
        "colab": {
          "base_uri": "https://localhost:8080/"
        },
        "id": "F0be9vRpSh59",
        "outputId": "2dd1faee-e046-4fae-d094-3498640e1444"
      },
      "outputs": [
        {
          "data": {
            "text/plain": [
              "(91095, 63)"
            ]
          },
          "execution_count": 73,
          "metadata": {},
          "output_type": "execute_result"
        }
      ],
      "source": [
        "main_data_tourism.shape # Tupla de (filas, columnas)"
      ]
    },
    {
      "cell_type": "code",
      "execution_count": 74,
      "metadata": {
        "colab": {
          "base_uri": "https://localhost:8080/"
        },
        "id": "jBO6xJ9TSh59",
        "outputId": "fb3855fb-4560-463a-f661-d1e9a5561cf7"
      },
      "outputs": [
        {
          "data": {
            "text/plain": [
              "AEROPUERTO_ORIGEN            object\n",
              "PAIS_DESTINO                 object\n",
              "SEXO                          int64\n",
              "EDAD                          int64\n",
              "PAIS_RESIDENCIA              object\n",
              "                              ...  \n",
              "DESGLOSE_BIENES_INMUEBLES    object\n",
              "DESGLOSE_OTRAS_COMPRAS       object\n",
              "DESGLOSE_FARMACIA            object\n",
              "DESGLOSE_OTROS_GASTOS        object\n",
              "TRIMESTRE                    object\n",
              "Length: 63, dtype: object"
            ]
          },
          "execution_count": 74,
          "metadata": {},
          "output_type": "execute_result"
        }
      ],
      "source": [
        "main_data_tourism.dtypes"
      ]
    },
    {
      "attachments": {},
      "cell_type": "markdown",
      "metadata": {
        "id": "0MaMPsZYSh5-"
      },
      "source": [
        "# PIE CHART EDAD DE ENCUESTADOS"
      ]
    },
    {
      "cell_type": "code",
      "execution_count": 75,
      "metadata": {
        "colab": {
          "base_uri": "https://localhost:8080/",
          "height": 762
        },
        "id": "0H80hyyu8mqn",
        "outputId": "2a37754b-aae1-4022-a54a-21d5aa536fe7"
      },
      "outputs": [
        {
          "name": "stdout",
          "output_type": "stream",
          "text": [
            "2019\n"
          ]
        },
        {
          "data": {
            "image/png": "[encoded data removed]",
            "text/plain": [
              "<Figure size 640x480 with 1 Axes>"
            ]
          },
          "metadata": {},
          "output_type": "display_data"
        },
        {
          "name": "stdout",
          "output_type": "stream",
          "text": [
            "2021\n"
          ]
        },
        {
          "data": {
            "image/png": "[encoded data removed]",
            "text/plain": [
              "<Figure size 640x480 with 1 Axes>"
            ]
          },
          "metadata": {},
          "output_type": "display_data"
        },
        {
          "name": "stdout",
          "output_type": "stream",
          "text": [
            "2022\n"
          ]
        },
        {
          "data": {
            "image/png": "[encoded data removed]",
            "text/plain": [
              "<Figure size 640x480 with 1 Axes>"
            ]
          },
          "metadata": {},
          "output_type": "display_data"
        }
      ],
      "source": [
        "from collections import OrderedDict \n",
        "# Years = list(set([s[:4] for s in Trimester]))\n",
        "\n",
        "Trimester = main_data_tourism.TRIMESTRE.unique()\n",
        "Years = list(OrderedDict.fromkeys([s[:4] for s in Trimester]))\n",
        "\n",
        "age_ranges = ['16-23', '24-44', '45-64', '+65']\n",
        "limit_ages = [15, 23, 44, 64] #List con las primeras edades de los rangos  - 1 \n",
        "\n",
        "# Iterar Years si se quiere por años o Trimester por trimestre\n",
        "for time in Years:\n",
        "  print(time)\n",
        "  count_ages = []\n",
        "  for pos in range(len(limit_ages)):\n",
        "    if pos == len(limit_ages)-1:\n",
        "      count_ages.append(((main_data_tourism.TRIMESTRE.str.contains(time)) & (main_data_tourism.EDAD >= limit_ages[pos]+1)).sum())\n",
        "    else:\n",
        "      count_ages.append(((main_data_tourism.TRIMESTRE.str.contains(time)) & (main_data_tourism.EDAD >= limit_ages[pos]+1) & (main_data_tourism.EDAD <= limit_ages[pos+1])).sum())\n",
        "\n",
        "  plt.pie(count_ages, labels=age_ranges, startangle=0, autopct='%1.1f%%', shadow=True)\n",
        "  plt.show()\n",
        "\n"
      ]
    },
    {
      "cell_type": "markdown",
      "metadata": {
        "id": "bUHKg0h1Sh5_"
      },
      "source": []
    },
    {
      "cell_type": "markdown",
      "metadata": {
        "id": "os1MFTHOyg_r"
      },
      "source": [
        "# GRAFICO DE BARRAS EDAD-TIEMPO (INDICE DE EDAD)"
      ]
    },
    {
      "cell_type": "code",
      "execution_count": 76,
      "metadata": {
        "colab": {
          "base_uri": "https://localhost:8080/",
          "height": 456
        },
        "id": "aRbDLXKCrOM-",
        "outputId": "1a27f432-109b-4a9b-f3be-7d8d692c39cd"
      },
      "outputs": [
        {
          "name": "stdout",
          "output_type": "stream",
          "text": [
            "       2019Q1  2019Q2  2019Q3  2019Q4  2021Q1  2021Q2  2021Q3  2021Q4  2022Q1  \\\n",
            "16-25     815    1079    1917     807     934    1360    1824     788     628   \n",
            "25-45    3433    3871    4768    4143    3616    4248    5181    3966    3384   \n",
            "45-65    4298    3525    3404    4686    2362    2058    3186    4190    4028   \n",
            "+65      1990     834     374    1119     620     499     388    1069    1171   \n",
            "\n",
            "       2022Q2  \n",
            "16-25    1026  \n",
            "25-45    3880  \n",
            "45-65    3832  \n",
            "+65      1141  \n"
          ]
        },
        {
          "data": {
            "image/png": "[encoded data removed]",
            "text/plain": [
              "<Figure size 640x480 with 1 Axes>"
            ]
          },
          "metadata": {},
          "output_type": "display_data"
        }
      ],
      "source": [
        "Cols = main_data_tourism.TRIMESTRE.unique()\n",
        "age_groups = ['16-25', '25-45', '45-65', '+65']\n",
        "core_ages = [16, 25, 45, 65]\n",
        "\n",
        "zeros_array = np.zeros( (len(core_ages), len(Cols)), dtype=int )\n",
        "\n",
        "for pos in range(len(core_ages)):\n",
        "  y = 0\n",
        "  for tri in Cols:\n",
        "    if pos == len(core_ages)-1:\n",
        "      zeros_array[pos][y] = len(main_data_tourism[(main_data_tourism.EDAD >= core_ages[pos]) & (main_data_tourism.TRIMESTRE == tri)])\n",
        "    else:\n",
        "      zeros_array[pos][y] = len(main_data_tourism[(main_data_tourism.EDAD >= core_ages[pos]) & (main_data_tourism.EDAD <= core_ages[pos+1]) &(main_data_tourism.TRIMESTRE == tri)])\n",
        "    y+=1\n",
        "\n",
        "df2 = pd.DataFrame(zeros_array, index=age_groups, columns=Cols)\n",
        "print(df2)\n",
        "ax2 = df2.plot.bar()\n",
        "ax2.tick_params(axis='x', rotation=0)\n",
        "    \n"
      ]
    },
    {
      "cell_type": "markdown",
      "metadata": {},
      "source": []
    }
  ],
  "metadata": {
    "colab": {
      "provenance": []
    },
    "kernelspec": {
      "display_name": "Python 3",
      "language": "python",
      "name": "python3"
    },
    "language_info": {
      "codemirror_mode": {
        "name": "ipython",
        "version": 3
      },
      "file_extension": ".py",
      "mimetype": "text/x-python",
      "name": "python",
      "nbconvert_exporter": "python",
      "pygments_lexer": "ipython3",
      "version": "3.11.1"
    },
    "orig_nbformat": 4,
    "vscode": {
      "interpreter": {
        "hash": "aee8b7b246df8f9039afb4144a1f6fd8d2ca17a180786b69acc140d282b71a49"
      }
    }
  },
  "nbformat": 4,
  "nbformat_minor": 0
}
